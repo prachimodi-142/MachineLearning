{
  "nbformat": 4,
  "nbformat_minor": 0,
  "metadata": {
    "colab": {
      "provenance": [],
      "authorship_tag": "ABX9TyOjvaz5pCWYIojypLIDjPJR",
      "include_colab_link": true
    },
    "kernelspec": {
      "name": "python3",
      "display_name": "Python 3"
    },
    "language_info": {
      "name": "python"
    },
    "accelerator": "GPU",
    "gpuClass": "standard"
  },
  "cells": [
    {
      "cell_type": "markdown",
      "metadata": {
        "id": "view-in-github",
        "colab_type": "text"
      },
      "source": [
        "<a href=\"https://colab.research.google.com/github/prachimodi-142/MachineLearning/blob/main/Homework_3.ipynb\" target=\"_parent\"><img src=\"https://colab.research.google.com/assets/colab-badge.svg\" alt=\"Open In Colab\"/></a>"
      ]
    },
    {
      "cell_type": "markdown",
      "source": [
        "## Ex. 2 b."
      ],
      "metadata": {
        "id": "IyA538T8HSmx"
      }
    },
    {
      "cell_type": "code",
      "source": [
        "import numpy as np\n",
        "import matplotlib.pyplot as plt\n",
        "import cv2\n",
        "import cvxpy as cp\n",
        "import csv\n",
        "\n",
        "# Load training data\n",
        "train_cat = np.matrix(np.loadtxt('train_cat.txt', delimiter=','))\n",
        "train_grass = np.matrix(np.loadtxt('train_grass.txt', delimiter=','))\n",
        "Y = plt.imread('/content/cat_grass.jpg') / 255\n",
        "\n",
        "# Compute sample mean for each class\n",
        "mu1 = np.mean(train_cat, axis=1)\n",
        "mu0 = np.mean(train_grass, axis=1)\n",
        "print(\"mu 1 shape {}\\n\".format(mu1.shape))\n",
        "print(\"mu 0 shape {}\\n\".format(mu0.shape))\n",
        "\n",
        "# Compute sample covariance matrix for each class\n",
        "Sigma1 = np.cov(train_cat)\n",
        "Sigma0 = np.cov(train_grass)\n",
        "\n",
        "# Compute priors\n",
        "K1 = train_cat.shape[1]\n",
        "K0 = train_grass.shape[1]\n",
        "pi1 = K1 / (K1 + K0)\n",
        "pi0 = K0 / (K1 + K0)\n",
        "\n",
        "# Report results\n",
        "print(\"mu1:\", mu1[:, :2])\n",
        "print(\"mu0:\", mu0[:, :2])\n",
        "print(\"Sigma1:\\n\", Sigma1[0, :2])\n",
        "print(\"Sigma0:\\n\", Sigma0[0, :2])\n",
        "print(\"pi1:\", pi1)\n",
        "print(\"pi0:\", pi0)\n",
        "\n"
      ],
      "metadata": {
        "id": "kNdoB1Jd8ZRT"
      },
      "execution_count": null,
      "outputs": []
    },
    {
      "cell_type": "code",
      "source": [
        "print(\"Sigma0:\\n\", Sigma0)\n",
        "print(\"DET Sigma0:\\n\", np.linalg.det(Sigma0))"
      ],
      "metadata": {
        "colab": {
          "base_uri": "https://localhost:8080/",
          "height": 181
        },
        "id": "LvMsUNoK7LA1",
        "outputId": "9c72695a-8748-48f0-f6af-2a1235849102"
      },
      "execution_count": null,
      "outputs": [
        {
          "output_type": "error",
          "ename": "NameError",
          "evalue": "ignored",
          "traceback": [
            "\u001b[0;31m---------------------------------------------------------------------------\u001b[0m",
            "\u001b[0;31mNameError\u001b[0m                                 Traceback (most recent call last)",
            "\u001b[0;32m<ipython-input-3-fd7610501b8f>\u001b[0m in \u001b[0;36m<module>\u001b[0;34m\u001b[0m\n\u001b[0;32m----> 1\u001b[0;31m \u001b[0mprint\u001b[0m\u001b[0;34m(\u001b[0m\u001b[0;34m\"Sigma0:\\n\"\u001b[0m\u001b[0;34m,\u001b[0m \u001b[0mSigma0\u001b[0m\u001b[0;34m)\u001b[0m\u001b[0;34m\u001b[0m\u001b[0;34m\u001b[0m\u001b[0m\n\u001b[0m\u001b[1;32m      2\u001b[0m \u001b[0mprint\u001b[0m\u001b[0;34m(\u001b[0m\u001b[0;34m\"DET Sigma0:\\n\"\u001b[0m\u001b[0;34m,\u001b[0m \u001b[0mnp\u001b[0m\u001b[0;34m.\u001b[0m\u001b[0mlinalg\u001b[0m\u001b[0;34m.\u001b[0m\u001b[0mdet\u001b[0m\u001b[0;34m(\u001b[0m\u001b[0mSigma0\u001b[0m\u001b[0;34m)\u001b[0m\u001b[0;34m)\u001b[0m\u001b[0;34m\u001b[0m\u001b[0;34m\u001b[0m\u001b[0m\n",
            "\u001b[0;31mNameError\u001b[0m: name 'Sigma0' is not defined"
          ]
        }
      ]
    },
    {
      "cell_type": "markdown",
      "source": [
        "## Ex. 2 c."
      ],
      "metadata": {
        "id": "y7d3e1VPHPv-"
      }
    },
    {
      "cell_type": "code",
      "source": [
        "print(\"Sigma0:\\n\", Sigma0)\n",
        "print(\"DET Sigma0:\\n\", np.linalg.det(Sigma0))\n",
        "M,N = Y.shape\n",
        "prediction = np.zeros([M,N])\n",
        "sigma_1_inv = np.linalg.inv(Sigma1)\n",
        "sigma_0_inv = np.linalg.inv(Sigma0)\n",
        "sigma_1_det = np.linalg.det(Sigma1)\n",
        "sigma_0_det = np.linalg.det(Sigma0)\n",
        "print(\"sigma 1 inv = {}\\n sigma 0 inv = {}\".format(sigma_1_inv.shape, sigma_0_inv.shape))\n",
        "for i in range(M-8):\n",
        "  for j in range(N-8):\n",
        "    block = Y[i:i+8, j:j+8].reshape(64,1)\n",
        "    # print(\"block shape {}\\n\".format(block.shape))\n",
        "    likelihood_1 = (-0.5 * (block - mu1).T @ sigma_1_inv @ (block - mu1) + np.log(pi1) - 0.5 * np.log(sigma_1_det))\n",
        "\n",
        "    likelihood_0 = (-0.5 * (block - mu0).T @ sigma_0_inv @ (block - mu0) + np.log(pi0) - 0.5 * np.log(sigma_0_det))\n",
        "    # print(\"likelihood 0 shape{}\".format(likelihood_0.shape))\n",
        "    # print(\"likelihood 2 shape{}\".format(likelihood_1.shape))\n",
        "    if likelihood_1 > likelihood_0:\n",
        "      prediction[i,j] = 1\n",
        "    else:\n",
        "      prediction[i,j] = 0\n",
        "\n",
        "      plt.imshow(Y)\n",
        "      "
      ],
      "metadata": {
        "colab": {
          "base_uri": "https://localhost:8080/"
        },
        "id": "duE66kkM_Nvr",
        "outputId": "9172dcf7-ff31-4242-d859-1b43a372480f"
      },
      "execution_count": null,
      "outputs": [
        {
          "output_type": "stream",
          "name": "stdout",
          "text": [
            "Sigma0:\n",
            " [[0.064484   0.0369168  0.02382711 ... 0.02176124 0.02216335 0.02234282]\n",
            " [0.0369168  0.06623457 0.03760258 ... 0.02213225 0.02324899 0.02186965]\n",
            " [0.02382711 0.03760258 0.06663007 ... 0.0229264  0.02253505 0.02261312]\n",
            " ...\n",
            " [0.02176124 0.02213225 0.0229264  ... 0.06658705 0.0384956  0.02510532]\n",
            " [0.02216335 0.02324899 0.02253505 ... 0.0384956  0.06796744 0.03886852]\n",
            " [0.02234282 0.02186965 0.02261312 ... 0.02510532 0.03886852 0.06694585]]\n",
            "DET Sigma0:\n",
            " 3.5541573168672423e-91\n",
            "sigma 1 inv = (64, 64)\n",
            " sigma 0 inv = (64, 64)\n"
          ]
        }
      ]
    },
    {
      "cell_type": "code",
      "source": [],
      "metadata": {
        "id": "4t0HdHU15tTy"
      },
      "execution_count": null,
      "outputs": []
    }
  ]
}